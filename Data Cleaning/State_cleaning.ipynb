{
 "cells": [
  {
   "cell_type": "code",
   "execution_count": null,
   "metadata": {},
   "outputs": [],
   "source": [
    "import pandas as pd\n"
   ]
  },
  {
   "cell_type": "code",
   "execution_count": null,
   "metadata": {},
   "outputs": [],
   "source": [
    "# Load data\n",
    "df = pd.read_csv(\"./Data_Cleaning_Main.csv\")\n",
    "\n",
    "# Select and rename columns\n",
    "df = df[['location', 'link']]\n",
    "\n",
    "# Create a new column 'location-scrap' by combining 'location' and 'link'\n",
    "df['location-scrap'] = df['location']\n",
    "\n",
    "# Replace values in 'location-scrap'\n",
    "df['location-scrap'] = df['location-scrap'].replace(['Location', '&nbsp', ';'], ['', '', ''], regex=True)\n",
    "\n",
    "# Trim the text in 'location-scrap'\n",
    "df['location-scrap'] = df['location-scrap'].str.strip()\n"
   ]
  },
  {
   "cell_type": "code",
   "execution_count": null,
   "metadata": {},
   "outputs": [],
   "source": [
    "# Insert Text After Delimiter in 'location - scrap'\n",
    "df['Text After Delimiter'] = df['location-scrap'].apply(lambda x: str(x).split(',')[-1].strip())\n",
    "\n",
    "# Replace state names with abbreviations\n",
    "states = {\n",
    "    \"Georgia\": \"GA\", \"Arkansas\": \"AR\", \"Arizona\": \"AZ\", \"Maine\": \"ME\", \"Alaska\": \"AK\", \n",
    "    \"Kansas\": \"KS\", \"Illinois\": \"IL\", \"Massachusetts\": \"MA\", \"Maryland\": \"MD\", \n",
    "    \"New York State\": \"NY\", \"North Carolina\": \"NC\", \"North Dakota\": \"ND\", \"Montana\": \"MT\", \n",
    "    \"Ohio\": \"OH\", \"Oklahoma\": \"OK\", \"Pennsylvania\": \"PA\", \"South Carolina\": \"SC\", \n",
    "    \"Wisconsin\": \"WI\", \"Hawaii\": \"HI\", \"Connecticut\": \"CT\", \"Minnesota\": \"MN\", \n",
    "    \"Missouri\": \"MO\", \"Nebraska\": \"NE\", \"Puerto Rico\": \"PR\", \"Mississippi\": \"MS\", \n",
    "    \"Texas\": \"TX\", \"Washington State\": \"WA\", \"Rhode Island\": \"RI\", \"California\": \"CA\", \n",
    "    \"Indiana\": \"IN\", \"Nevada\": \"NV\", \"New Jersey\": \"NJ\", \"Utah\": \"UT\", \"Michigan\": \"MI\",\n",
    "    \"Tennessee\": \"TN\", \"Colorado\": \"CO\", \"Florida\": \"FL\", \"Virginia\": \"VA\", \"West Virginia\": \"WV\",\n",
    "    \"India\": \"IN\" \n",
    "}\n",
    "\n",
    "df['Text After Delimiter'] = df['Text After Delimiter'].replace(states)"
   ]
  },
  {
   "cell_type": "code",
   "execution_count": null,
   "metadata": {},
   "outputs": [],
   "source": [
    "# Split column by delimiter\n",
    "df[['State', 'extra']] = df['Text After Delimiter'].str.split(' ', n=1, expand=True)\n",
    "\n",
    "# Final cleanup\n",
    "df.drop(columns=['location-scrap', 'Text After Delimiter', 'extra'], inplace=True)\n",
    "\n",
    "# Rename and reorder columns\n",
    "df.rename(columns={'State': 'State Abbreviation'}, inplace=True)\n",
    "df = df[['link','State Abbreviation']]\n",
    "\n"
   ]
  },
  {
   "cell_type": "code",
   "execution_count": null,
   "metadata": {},
   "outputs": [],
   "source": [
    "df.to_csv('States.csv', index=False)"
   ]
  }
 ],
 "metadata": {
  "kernelspec": {
   "display_name": "base",
   "language": "python",
   "name": "python3"
  },
  "language_info": {
   "codemirror_mode": {
    "name": "ipython",
    "version": 3
   },
   "file_extension": ".py",
   "mimetype": "text/x-python",
   "name": "python",
   "nbconvert_exporter": "python",
   "pygments_lexer": "ipython3",
   "version": "3.11.7"
  }
 },
 "nbformat": 4,
 "nbformat_minor": 2
}
