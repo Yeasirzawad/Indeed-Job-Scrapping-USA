{
 "cells": [
  {
   "cell_type": "code",
   "execution_count": 1,
   "metadata": {},
   "outputs": [],
   "source": [
    "import pandas as pd\n"
   ]
  },
  {
   "cell_type": "code",
   "execution_count": 3,
   "metadata": {},
   "outputs": [
    {
     "name": "stdout",
     "output_type": "stream",
     "text": [
      "                                            location  \\\n",
      "0  Location\\n2500 Rocky Mountain Avenue, Loveland...   \n",
      "1                      Location\\nPullman, WA\\n&nbsp;   \n",
      "2                        Location\\nCamas, WA\\n&nbsp;   \n",
      "3                           Location\\nRemote\\n&nbsp;   \n",
      "4       Location\\n7 Hazen Drive, Concord, NH\\n&nbsp;   \n",
      "\n",
      "                                                link  \\\n",
      "0  https://www.indeed.com/rc/clk?jk=ab2aea441ea1e...   \n",
      "1  https://www.indeed.com/rc/clk?jk=45359086e0c5b...   \n",
      "2  https://www.indeed.com/rc/clk?jk=bfde32d85c230...   \n",
      "3  https://www.indeed.com/rc/clk?jk=e0f617350b0ec...   \n",
      "4  https://www.indeed.com/rc/clk?jk=ff79324cd280b...   \n",
      "\n",
      "                                   location-scrap  \n",
      "0  2500 Rocky Mountain Avenue, Loveland, CO 80538  \n",
      "1                                     Pullman, WA  \n",
      "2                                       Camas, WA  \n",
      "3                                          Remote  \n",
      "4                      7 Hazen Drive, Concord, NH  \n"
     ]
    }
   ],
   "source": [
    "# Load data\n",
    "df = pd.read_csv(\"./Data_Cleaning_Main.csv\")\n",
    "\n",
    "# Select and rename columns\n",
    "df = df[['location', 'link']]\n",
    "\n",
    "# Create a new column 'location-scrap' by combining 'location' and 'link'\n",
    "df['location-scrap'] = df['location']\n",
    "\n",
    "# Replace values in 'location-scrap'\n",
    "df['location-scrap'] = df['location-scrap'].replace(['Location', '&nbsp', ';'], ['', '', ''], regex=True)\n",
    "\n",
    "# Trim the text in 'location-scrap'\n",
    "df['location-scrap'] = df['location-scrap'].str.strip()\n"
   ]
  },
  {
   "cell_type": "code",
   "execution_count": 8,
   "metadata": {},
   "outputs": [],
   "source": [
    "# Insert Text After Delimiter in 'location - scrap'\n",
    "df['Text After Delimiter'] = df['location-scrap'].apply(lambda x: str(x).split(',')[-1].strip())\n",
    "\n",
    "# Replace state names with abbreviations\n",
    "states = {\n",
    "    \"Georgia\": \"GA\", \"Arkansas\": \"AR\", \"Arizona\": \"AZ\", \"Maine\": \"ME\", \"Alaska\": \"AK\", \n",
    "    \"Kansas\": \"KS\", \"Illinois\": \"IL\", \"Massachusetts\": \"MA\", \"Maryland\": \"MD\", \n",
    "    \"New York State\": \"NY\", \"North Carolina\": \"NC\", \"North Dakota\": \"ND\", \"Montana\": \"MT\", \n",
    "    \"Ohio\": \"OH\", \"Oklahoma\": \"OK\", \"Pennsylvania\": \"PA\", \"South Carolina\": \"SC\", \n",
    "    \"Wisconsin\": \"WI\", \"Hawaii\": \"HI\", \"Connecticut\": \"CT\", \"Minnesota\": \"MN\", \n",
    "    \"Missouri\": \"MO\", \"Nebraska\": \"NE\", \"Puerto Rico\": \"PR\", \"Mississippi\": \"MS\", \n",
    "    \"Texas\": \"TX\", \"Washington State\": \"WA\", \"Rhode Island\": \"RI\", \"California\": \"CA\", \n",
    "    \"Indiana\": \"IN\", \"Nevada\": \"NV\", \"New Jersey\": \"NJ\", \"Utah\": \"UT\", \"Michigan\": \"MI\",\n",
    "    \"Tennessee\": \"TN\", \"Colorado\": \"CO\", \"Florida\": \"FL\", \"Virginia\": \"VA\", \"West Virginia\": \"WV\",\n",
    "    \"India\": \"IN\" \n",
    "}\n",
    "\n",
    "df['Text After Delimiter'] = df['Text After Delimiter'].replace(states)"
   ]
  },
  {
   "cell_type": "code",
   "execution_count": 9,
   "metadata": {},
   "outputs": [],
   "source": [
    "# Split column by delimiter\n",
    "df[['State', 'extra']] = df['Text After Delimiter'].str.split(' ', n=1, expand=True)\n",
    "\n",
    "# Final cleanup\n",
    "df.drop(columns=['location-scrap', 'Text After Delimiter', 'extra'], inplace=True)\n",
    "\n",
    "# Rename and reorder columns\n",
    "df.rename(columns={'State': 'State Abbreviation'}, inplace=True)\n",
    "df = df[['link','State Abbreviation']]\n",
    "\n"
   ]
  },
  {
   "cell_type": "code",
   "execution_count": 11,
   "metadata": {},
   "outputs": [
    {
     "data": {
      "text/html": [
       "<div>\n",
       "<style scoped>\n",
       "    .dataframe tbody tr th:only-of-type {\n",
       "        vertical-align: middle;\n",
       "    }\n",
       "\n",
       "    .dataframe tbody tr th {\n",
       "        vertical-align: top;\n",
       "    }\n",
       "\n",
       "    .dataframe thead th {\n",
       "        text-align: right;\n",
       "    }\n",
       "</style>\n",
       "<table border=\"1\" class=\"dataframe\">\n",
       "  <thead>\n",
       "    <tr style=\"text-align: right;\">\n",
       "      <th></th>\n",
       "      <th>link</th>\n",
       "      <th>State Abbreviation</th>\n",
       "    </tr>\n",
       "  </thead>\n",
       "  <tbody>\n",
       "    <tr>\n",
       "      <th>0</th>\n",
       "      <td>https://www.indeed.com/rc/clk?jk=ab2aea441ea1e...</td>\n",
       "      <td>CO</td>\n",
       "    </tr>\n",
       "    <tr>\n",
       "      <th>1</th>\n",
       "      <td>https://www.indeed.com/rc/clk?jk=45359086e0c5b...</td>\n",
       "      <td>WA</td>\n",
       "    </tr>\n",
       "    <tr>\n",
       "      <th>2</th>\n",
       "      <td>https://www.indeed.com/rc/clk?jk=bfde32d85c230...</td>\n",
       "      <td>WA</td>\n",
       "    </tr>\n",
       "    <tr>\n",
       "      <th>3</th>\n",
       "      <td>https://www.indeed.com/rc/clk?jk=e0f617350b0ec...</td>\n",
       "      <td>Remote</td>\n",
       "    </tr>\n",
       "    <tr>\n",
       "      <th>4</th>\n",
       "      <td>https://www.indeed.com/rc/clk?jk=ff79324cd280b...</td>\n",
       "      <td>NH</td>\n",
       "    </tr>\n",
       "    <tr>\n",
       "      <th>...</th>\n",
       "      <td>...</td>\n",
       "      <td>...</td>\n",
       "    </tr>\n",
       "    <tr>\n",
       "      <th>11285</th>\n",
       "      <td>https://www.indeed.com/rc/clk?jk=6078f1a23fe6f...</td>\n",
       "      <td>AZ</td>\n",
       "    </tr>\n",
       "    <tr>\n",
       "      <th>11286</th>\n",
       "      <td>https://www.indeed.com/rc/clk?jk=09f289b51743a...</td>\n",
       "      <td>CA</td>\n",
       "    </tr>\n",
       "    <tr>\n",
       "      <th>11287</th>\n",
       "      <td>https://www.indeed.com/rc/clk?jk=9b5fba4325f35...</td>\n",
       "      <td>TX</td>\n",
       "    </tr>\n",
       "    <tr>\n",
       "      <th>11288</th>\n",
       "      <td>https://www.indeed.com/rc/clk?jk=086f4cc74e3a8...</td>\n",
       "      <td>Remote</td>\n",
       "    </tr>\n",
       "    <tr>\n",
       "      <th>11289</th>\n",
       "      <td>https://www.indeed.com/rc/clk?jk=b5ab293884916...</td>\n",
       "      <td>CA</td>\n",
       "    </tr>\n",
       "  </tbody>\n",
       "</table>\n",
       "<p>11290 rows × 2 columns</p>\n",
       "</div>"
      ],
      "text/plain": [
       "                                                    link State Abbreviation\n",
       "0      https://www.indeed.com/rc/clk?jk=ab2aea441ea1e...                 CO\n",
       "1      https://www.indeed.com/rc/clk?jk=45359086e0c5b...                 WA\n",
       "2      https://www.indeed.com/rc/clk?jk=bfde32d85c230...                 WA\n",
       "3      https://www.indeed.com/rc/clk?jk=e0f617350b0ec...             Remote\n",
       "4      https://www.indeed.com/rc/clk?jk=ff79324cd280b...                 NH\n",
       "...                                                  ...                ...\n",
       "11285  https://www.indeed.com/rc/clk?jk=6078f1a23fe6f...                 AZ\n",
       "11286  https://www.indeed.com/rc/clk?jk=09f289b51743a...                 CA\n",
       "11287  https://www.indeed.com/rc/clk?jk=9b5fba4325f35...                 TX\n",
       "11288  https://www.indeed.com/rc/clk?jk=086f4cc74e3a8...             Remote\n",
       "11289  https://www.indeed.com/rc/clk?jk=b5ab293884916...                 CA\n",
       "\n",
       "[11290 rows x 2 columns]"
      ]
     },
     "execution_count": 11,
     "metadata": {},
     "output_type": "execute_result"
    }
   ],
   "source": [
    "df\n"
   ]
  },
  {
   "cell_type": "code",
   "execution_count": 12,
   "metadata": {},
   "outputs": [],
   "source": [
    "df.to_csv('States.csv', index=False)"
   ]
  },
  {
   "cell_type": "code",
   "execution_count": null,
   "metadata": {},
   "outputs": [],
   "source": []
  }
 ],
 "metadata": {
  "kernelspec": {
   "display_name": "base",
   "language": "python",
   "name": "python3"
  },
  "language_info": {
   "codemirror_mode": {
    "name": "ipython",
    "version": 3
   },
   "file_extension": ".py",
   "mimetype": "text/x-python",
   "name": "python",
   "nbconvert_exporter": "python",
   "pygments_lexer": "ipython3",
   "version": "3.11.7"
  }
 },
 "nbformat": 4,
 "nbformat_minor": 2
}
