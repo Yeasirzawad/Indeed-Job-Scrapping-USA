{
 "cells": [
  {
   "cell_type": "code",
   "execution_count": null,
   "metadata": {},
   "outputs": [],
   "source": [
    "import pandas as pd\n",
    "import re\n"
   ]
  },
  {
   "cell_type": "code",
   "execution_count": null,
   "metadata": {},
   "outputs": [],
   "source": [
    "df = pd.read_csv(\"D:\\Sifat\\Cleaning\\clean_ds.csv\")"
   ]
  },
  {
   "cell_type": "code",
   "execution_count": null,
   "metadata": {},
   "outputs": [],
   "source": [
    "df = df[[\"link\",\"benefits\"]]"
   ]
  },
  {
   "cell_type": "code",
   "execution_count": null,
   "metadata": {},
   "outputs": [],
   "source": [
    "df.head()\n"
   ]
  },
  {
   "cell_type": "code",
   "execution_count": null,
   "metadata": {},
   "outputs": [],
   "source": [
    "# Unique Benefit Lists\n",
    "benefit = [\"403(B)\", \"Continuing Education Credits\", \"Dental Insurance\", \"Disability Insurance\",\n",
    "        \"Health Insurance\", \"Loan Forgiveness\", \"Loan Repayment Program\", \"Paid Time Off\",\n",
    "                \"Pet Insurance\", \"Tuition Reimbursement\", \"Vision Insurance\", \"401(K)\",\n",
    "        \"Employee Stock Ownership Plan\", \"Paid Sick Time\", \"Adoption Assistance\",\n",
    "        \"Caregiver Leave\", \"Work From Home\", \"Employee Assistance Program\",\n",
    "        \"Flexible Spending Account\", \"Health Savings Account\", \"Life Insurance\",\n",
    "        \"457(B)\", \"Childcare\", \"Flexible Schedule\", \"Retirement Plan\", \"Wellness Program\",\n",
    "        \"Gym Membership\", \"Paid Holidays\", \"Opportunities For Advancement\", \"Ad&D Insurance\",\n",
    "        \"Happy Hour\", \"Paid Parental Leave\", \"Employee Stock Purchase Plan\",\n",
    "        \"Commuter Assistance\", \"Employee Discount\", \"On-Site Gym\", \"Parental Leave\",\n",
    "        \"Family Leave\", \"Profit Sharing\", \"Cash Balance Pension Plan\", \"Benefits From Day One\",\n",
    "        \"Free Parking\", \"Professional Development Assistance\", \"Relocation Assistance\",\n",
    "        \"Rsu\", \"Military Leave\", \"Stock Options\", \"Unlimited Paid Time Off\", \"Paid Jury Duty\",\n",
    "        \"Flextime\", \"Volunteer Time Off\", \"Company Car\", \"Referral Program\",\n",
    "        \"Green Card Sponsorship\", \"Visa Sponsorship\", \"Store Discount\", \"Sabbatical\",\n",
    "        \"Internal Mobility Program\", \"Bereavement Leave\", \"On-The-Job Training\",\n",
    "        \"License Reimbursement\", \"Smoking Cessation Program\", \"Travel Reimbursement\",\n",
    "        \"Paid Military Leave\", \"Prescription Drug Insurance\", \"Dependent Care Reimbursement\",\n",
    "        \"Internet Reimbursement\", \"Food Provided\", \"Paid Training\", \"Lunch & Learns\",\n",
    "        \"Cell Phone Reimbursement\", \"Matching Gift Program\", \"Financial Planning Services\",\n",
    "        \"Loan Assistance\", \"Dependent Health Insurance Coverage\", \"Conference Stipend\",\n",
    "        \"Union Benefits\", \"Mileage Reimbursement\", \"Leadership Training Provided\",\n",
    "        \"Free Massages\", \"Partner Benefits\", \"Work From Home Stipend\", \"Safety Equipment Provided\",\n",
    "        \"Credit Union Membership\", \"Uniform Allowance\", \"Housing Allowance\", \"Free Fitness Classes\",\n",
    "        \"Paid Housing\", \"Expense Account\", \"Tools Provided\", \"Language Training Provided\"]\n",
    "\n",
    "benefit = [b.lower() for b in benefit]\n",
    "\n",
    "# Iterate over each benefit\n",
    "for b in benefit:\n",
    "    escaped_benefit = re.escape(b)  # Escaping regex special characters in the benefit\n",
    "    df[b] = 0  # Initialize the column with 0\n",
    "    # Set 1 to the column if the benefit appears in the description\n",
    "    df.loc[df['benefits'].str.contains(escaped_benefit, case=False, na=False, regex=True), b] = 1\n",
    "\n",
    "print(df.head())"
   ]
  },
  {
   "cell_type": "code",
   "execution_count": null,
   "metadata": {},
   "outputs": [],
   "source": [
    "df.to_csv(\"lol.csv\")"
   ]
  },
  {
   "cell_type": "code",
   "execution_count": null,
   "metadata": {},
   "outputs": [],
   "source": []
  }
 ],
 "metadata": {
  "kernelspec": {
   "display_name": "base",
   "language": "python",
   "name": "python3"
  },
  "language_info": {
   "codemirror_mode": {
    "name": "ipython",
    "version": 3
   },
   "file_extension": ".py",
   "mimetype": "text/x-python",
   "name": "python",
   "nbconvert_exporter": "python",
   "pygments_lexer": "ipython3",
   "version": "3.11.7"
  }
 },
 "nbformat": 4,
 "nbformat_minor": 2
}
